{
 "cells": [
  {
   "cell_type": "code",
   "execution_count": null,
   "metadata": {},
   "outputs": [],
   "source": [
    "import os\n",
    "import pickle\n",
    "\n",
    "import matplotlib.pyplot as plt"
   ]
  },
  {
   "cell_type": "code",
   "execution_count": null,
   "metadata": {},
   "outputs": [],
   "source": [
    "def load_files(path: str):\n",
    "    filenames = os.listdir(path)\n",
    "\n",
    "    files = []\n",
    "    for filename in filenames:\n",
    "        with open(os.path.join(path, filename), 'rb') as file:\n",
    "            files.append(pickle.load(file))\n",
    "    return files\n",
    "\n",
    "def load_demo(root_dir: str):\n",
    "    data_fields = [\n",
    "        'action', \n",
    "        'color', \n",
    "        'depth', \n",
    "        'info', \n",
    "        # 'nerf-dataset', \n",
    "        'reward'\n",
    "    ]\n",
    "    tmp = []\n",
    "    for field in data_fields:\n",
    "        path = os.path.join(root_dir, field)\n",
    "        files = load_files(path)\n",
    "        tmp.append(files)\n",
    "\n",
    "    demos = []\n",
    "    for demo_items in zip(*tmp):\n",
    "        demo = {}\n",
    "        for field, item in zip(data_fields, demo_items):\n",
    "            demo[field] = item\n",
    "        demos.append(demo)\n",
    "\n",
    "    return demos\n",
    "\n",
    "def get_demo_step(demo, step: int):\n",
    "    (action_seq, action_seq_info), colors_seq, depths_seq, infos_seq, reward_seq = demo['action'], demo['color'], demo['depth'], demo['info'], demo['reward']\n",
    "    action = action_seq[f'pose{step}']\n",
    "    colors = colors_seq[step]\n",
    "    depths = depths_seq[step]\n",
    "    info = {}\n",
    "    for object_id, (pos, rot, dim) in infos_seq[step].items():\n",
    "        info['object_id'] = object_id,\n",
    "        info['pos'] = pos\n",
    "        info['rot'] = rot\n",
    "        info['dim'] = dim\n",
    "    reward = reward_seq[step]\n",
    "    return action, colors, depths, info, reward\n"
   ]
  },
  {
   "cell_type": "code",
   "execution_count": null,
   "metadata": {},
   "outputs": [],
   "source": [
    "dataset_dir = './block-insertion-sixdof-train'\n",
    "demos = load_demo(root_dir=dataset_dir)"
   ]
  },
  {
   "cell_type": "code",
   "execution_count": null,
   "metadata": {},
   "outputs": [],
   "source": [
    "demo_idx = 0\n",
    "demo = demos[demo_idx]"
   ]
  },
  {
   "cell_type": "code",
   "execution_count": null,
   "metadata": {},
   "outputs": [],
   "source": [
    "step = 1\n",
    "action, colors, depths, info, reward = get_demo_step(demo, step=step)"
   ]
  },
  {
   "cell_type": "code",
   "execution_count": null,
   "metadata": {},
   "outputs": [],
   "source": [
    "color = colors[2]"
   ]
  },
  {
   "cell_type": "code",
   "execution_count": null,
   "metadata": {},
   "outputs": [],
   "source": [
    "plt.imshow(color)"
   ]
  },
  {
   "cell_type": "code",
   "execution_count": null,
   "metadata": {},
   "outputs": [],
   "source": [
    "color.shape"
   ]
  },
  {
   "cell_type": "code",
   "execution_count": null,
   "metadata": {},
   "outputs": [],
   "source": []
  },
  {
   "cell_type": "code",
   "execution_count": null,
   "metadata": {},
   "outputs": [],
   "source": []
  }
 ],
 "metadata": {
  "kernelspec": {
   "display_name": "mira",
   "language": "python",
   "name": "python3"
  },
  "language_info": {
   "codemirror_mode": {
    "name": "ipython",
    "version": 3
   },
   "file_extension": ".py",
   "mimetype": "text/x-python",
   "name": "python",
   "nbconvert_exporter": "python",
   "pygments_lexer": "ipython3",
   "version": "3.7.16"
  },
  "orig_nbformat": 4
 },
 "nbformat": 4,
 "nbformat_minor": 2
}
